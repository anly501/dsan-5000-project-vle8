{
 "cells": [
  {
   "cell_type": "code",
   "execution_count": 1,
   "metadata": {},
   "outputs": [],
   "source": [
    "import requests\n",
    "from bs4 import BeautifulSoup\n",
    "import pandas as pd"
   ]
  },
  {
   "cell_type": "code",
   "execution_count": 2,
   "metadata": {},
   "outputs": [],
   "source": [
    "# Define base URL\n",
    "base_url = \"https://basketball.realgm.com/nba/allstar/game/rosters/\"\n",
    "\n",
    "# Define years (excluding 1999 because there was no NBA All-Star Game)\n",
    "years = list(range(1980, 2011))\n",
    "years.remove(1999)"
   ]
  },
  {
   "cell_type": "code",
   "execution_count": 3,
   "metadata": {},
   "outputs": [
    {
     "name": "stdout",
     "output_type": "stream",
     "text": [
      "Saving table 1 for 1980 to 1980_Player_Details_1.csv...\n",
      "Table 1 saved as 1980_Player_Details_1.csv\n",
      "\n",
      "Saving table 2 for 1980 to 1980_Player_Details_2.csv...\n",
      "Table 2 saved as 1980_Player_Details_2.csv\n",
      "\n"
     ]
    },
    {
     "name": "stderr",
     "output_type": "stream",
     "text": [
      "/var/folders/f6/ng6svcbs3x527pvn9dvrsjjr0000gn/T/ipykernel_39115/3731253816.py:29: FutureWarning: Passing literal html to 'read_html' is deprecated and will be removed in a future version. To read from a literal string, wrap it in a 'StringIO' object.\n",
      "  table_data = pd.read_html(str(table))[0]\n",
      "/var/folders/f6/ng6svcbs3x527pvn9dvrsjjr0000gn/T/ipykernel_39115/3731253816.py:29: FutureWarning: Passing literal html to 'read_html' is deprecated and will be removed in a future version. To read from a literal string, wrap it in a 'StringIO' object.\n",
      "  table_data = pd.read_html(str(table))[0]\n"
     ]
    },
    {
     "name": "stdout",
     "output_type": "stream",
     "text": [
      "Saving table 1 for 1981 to 1981_Player_Details_1.csv...\n",
      "Table 1 saved as 1981_Player_Details_1.csv\n",
      "\n",
      "Saving table 2 for 1981 to 1981_Player_Details_2.csv...\n",
      "Table 2 saved as 1981_Player_Details_2.csv\n",
      "\n"
     ]
    },
    {
     "name": "stderr",
     "output_type": "stream",
     "text": [
      "/var/folders/f6/ng6svcbs3x527pvn9dvrsjjr0000gn/T/ipykernel_39115/3731253816.py:29: FutureWarning: Passing literal html to 'read_html' is deprecated and will be removed in a future version. To read from a literal string, wrap it in a 'StringIO' object.\n",
      "  table_data = pd.read_html(str(table))[0]\n",
      "/var/folders/f6/ng6svcbs3x527pvn9dvrsjjr0000gn/T/ipykernel_39115/3731253816.py:29: FutureWarning: Passing literal html to 'read_html' is deprecated and will be removed in a future version. To read from a literal string, wrap it in a 'StringIO' object.\n",
      "  table_data = pd.read_html(str(table))[0]\n"
     ]
    },
    {
     "name": "stdout",
     "output_type": "stream",
     "text": [
      "Saving table 1 for 1982 to 1982_Player_Details_1.csv...\n",
      "Table 1 saved as 1982_Player_Details_1.csv\n",
      "\n",
      "Saving table 2 for 1982 to 1982_Player_Details_2.csv...\n",
      "Table 2 saved as 1982_Player_Details_2.csv\n",
      "\n"
     ]
    },
    {
     "name": "stderr",
     "output_type": "stream",
     "text": [
      "/var/folders/f6/ng6svcbs3x527pvn9dvrsjjr0000gn/T/ipykernel_39115/3731253816.py:29: FutureWarning: Passing literal html to 'read_html' is deprecated and will be removed in a future version. To read from a literal string, wrap it in a 'StringIO' object.\n",
      "  table_data = pd.read_html(str(table))[0]\n",
      "/var/folders/f6/ng6svcbs3x527pvn9dvrsjjr0000gn/T/ipykernel_39115/3731253816.py:29: FutureWarning: Passing literal html to 'read_html' is deprecated and will be removed in a future version. To read from a literal string, wrap it in a 'StringIO' object.\n",
      "  table_data = pd.read_html(str(table))[0]\n"
     ]
    },
    {
     "name": "stdout",
     "output_type": "stream",
     "text": [
      "Saving table 1 for 1983 to 1983_Player_Details_1.csv...\n",
      "Table 1 saved as 1983_Player_Details_1.csv\n",
      "\n",
      "Saving table 2 for 1983 to 1983_Player_Details_2.csv...\n",
      "Table 2 saved as 1983_Player_Details_2.csv\n",
      "\n"
     ]
    },
    {
     "name": "stderr",
     "output_type": "stream",
     "text": [
      "/var/folders/f6/ng6svcbs3x527pvn9dvrsjjr0000gn/T/ipykernel_39115/3731253816.py:29: FutureWarning: Passing literal html to 'read_html' is deprecated and will be removed in a future version. To read from a literal string, wrap it in a 'StringIO' object.\n",
      "  table_data = pd.read_html(str(table))[0]\n",
      "/var/folders/f6/ng6svcbs3x527pvn9dvrsjjr0000gn/T/ipykernel_39115/3731253816.py:29: FutureWarning: Passing literal html to 'read_html' is deprecated and will be removed in a future version. To read from a literal string, wrap it in a 'StringIO' object.\n",
      "  table_data = pd.read_html(str(table))[0]\n"
     ]
    },
    {
     "name": "stdout",
     "output_type": "stream",
     "text": [
      "Saving table 1 for 1984 to 1984_Player_Details_1.csv...\n",
      "Table 1 saved as 1984_Player_Details_1.csv\n",
      "\n",
      "Saving table 2 for 1984 to 1984_Player_Details_2.csv...\n",
      "Table 2 saved as 1984_Player_Details_2.csv\n",
      "\n"
     ]
    },
    {
     "name": "stderr",
     "output_type": "stream",
     "text": [
      "/var/folders/f6/ng6svcbs3x527pvn9dvrsjjr0000gn/T/ipykernel_39115/3731253816.py:29: FutureWarning: Passing literal html to 'read_html' is deprecated and will be removed in a future version. To read from a literal string, wrap it in a 'StringIO' object.\n",
      "  table_data = pd.read_html(str(table))[0]\n",
      "/var/folders/f6/ng6svcbs3x527pvn9dvrsjjr0000gn/T/ipykernel_39115/3731253816.py:29: FutureWarning: Passing literal html to 'read_html' is deprecated and will be removed in a future version. To read from a literal string, wrap it in a 'StringIO' object.\n",
      "  table_data = pd.read_html(str(table))[0]\n"
     ]
    },
    {
     "name": "stdout",
     "output_type": "stream",
     "text": [
      "Saving table 1 for 1985 to 1985_Player_Details_1.csv...\n",
      "Table 1 saved as 1985_Player_Details_1.csv\n",
      "\n",
      "Saving table 2 for 1985 to 1985_Player_Details_2.csv...\n",
      "Table 2 saved as 1985_Player_Details_2.csv\n",
      "\n"
     ]
    },
    {
     "name": "stderr",
     "output_type": "stream",
     "text": [
      "/var/folders/f6/ng6svcbs3x527pvn9dvrsjjr0000gn/T/ipykernel_39115/3731253816.py:29: FutureWarning: Passing literal html to 'read_html' is deprecated and will be removed in a future version. To read from a literal string, wrap it in a 'StringIO' object.\n",
      "  table_data = pd.read_html(str(table))[0]\n",
      "/var/folders/f6/ng6svcbs3x527pvn9dvrsjjr0000gn/T/ipykernel_39115/3731253816.py:29: FutureWarning: Passing literal html to 'read_html' is deprecated and will be removed in a future version. To read from a literal string, wrap it in a 'StringIO' object.\n",
      "  table_data = pd.read_html(str(table))[0]\n"
     ]
    },
    {
     "name": "stdout",
     "output_type": "stream",
     "text": [
      "Saving table 1 for 1986 to 1986_Player_Details_1.csv...\n",
      "Table 1 saved as 1986_Player_Details_1.csv\n",
      "\n",
      "Saving table 2 for 1986 to 1986_Player_Details_2.csv...\n",
      "Table 2 saved as 1986_Player_Details_2.csv\n",
      "\n"
     ]
    },
    {
     "name": "stderr",
     "output_type": "stream",
     "text": [
      "/var/folders/f6/ng6svcbs3x527pvn9dvrsjjr0000gn/T/ipykernel_39115/3731253816.py:29: FutureWarning: Passing literal html to 'read_html' is deprecated and will be removed in a future version. To read from a literal string, wrap it in a 'StringIO' object.\n",
      "  table_data = pd.read_html(str(table))[0]\n",
      "/var/folders/f6/ng6svcbs3x527pvn9dvrsjjr0000gn/T/ipykernel_39115/3731253816.py:29: FutureWarning: Passing literal html to 'read_html' is deprecated and will be removed in a future version. To read from a literal string, wrap it in a 'StringIO' object.\n",
      "  table_data = pd.read_html(str(table))[0]\n"
     ]
    },
    {
     "name": "stdout",
     "output_type": "stream",
     "text": [
      "Saving table 1 for 1987 to 1987_Player_Details_1.csv...\n",
      "Table 1 saved as 1987_Player_Details_1.csv\n",
      "\n",
      "Saving table 2 for 1987 to 1987_Player_Details_2.csv...\n",
      "Table 2 saved as 1987_Player_Details_2.csv\n",
      "\n"
     ]
    },
    {
     "name": "stderr",
     "output_type": "stream",
     "text": [
      "/var/folders/f6/ng6svcbs3x527pvn9dvrsjjr0000gn/T/ipykernel_39115/3731253816.py:29: FutureWarning: Passing literal html to 'read_html' is deprecated and will be removed in a future version. To read from a literal string, wrap it in a 'StringIO' object.\n",
      "  table_data = pd.read_html(str(table))[0]\n",
      "/var/folders/f6/ng6svcbs3x527pvn9dvrsjjr0000gn/T/ipykernel_39115/3731253816.py:29: FutureWarning: Passing literal html to 'read_html' is deprecated and will be removed in a future version. To read from a literal string, wrap it in a 'StringIO' object.\n",
      "  table_data = pd.read_html(str(table))[0]\n"
     ]
    },
    {
     "name": "stdout",
     "output_type": "stream",
     "text": [
      "Saving table 1 for 1988 to 1988_Player_Details_1.csv...\n",
      "Table 1 saved as 1988_Player_Details_1.csv\n",
      "\n",
      "Saving table 2 for 1988 to 1988_Player_Details_2.csv...\n",
      "Table 2 saved as 1988_Player_Details_2.csv\n",
      "\n"
     ]
    },
    {
     "name": "stderr",
     "output_type": "stream",
     "text": [
      "/var/folders/f6/ng6svcbs3x527pvn9dvrsjjr0000gn/T/ipykernel_39115/3731253816.py:29: FutureWarning: Passing literal html to 'read_html' is deprecated and will be removed in a future version. To read from a literal string, wrap it in a 'StringIO' object.\n",
      "  table_data = pd.read_html(str(table))[0]\n",
      "/var/folders/f6/ng6svcbs3x527pvn9dvrsjjr0000gn/T/ipykernel_39115/3731253816.py:29: FutureWarning: Passing literal html to 'read_html' is deprecated and will be removed in a future version. To read from a literal string, wrap it in a 'StringIO' object.\n",
      "  table_data = pd.read_html(str(table))[0]\n"
     ]
    },
    {
     "name": "stdout",
     "output_type": "stream",
     "text": [
      "Saving table 1 for 1989 to 1989_Player_Details_1.csv...\n",
      "Table 1 saved as 1989_Player_Details_1.csv\n",
      "\n",
      "Saving table 2 for 1989 to 1989_Player_Details_2.csv...\n",
      "Table 2 saved as 1989_Player_Details_2.csv\n",
      "\n"
     ]
    },
    {
     "name": "stderr",
     "output_type": "stream",
     "text": [
      "/var/folders/f6/ng6svcbs3x527pvn9dvrsjjr0000gn/T/ipykernel_39115/3731253816.py:29: FutureWarning: Passing literal html to 'read_html' is deprecated and will be removed in a future version. To read from a literal string, wrap it in a 'StringIO' object.\n",
      "  table_data = pd.read_html(str(table))[0]\n",
      "/var/folders/f6/ng6svcbs3x527pvn9dvrsjjr0000gn/T/ipykernel_39115/3731253816.py:29: FutureWarning: Passing literal html to 'read_html' is deprecated and will be removed in a future version. To read from a literal string, wrap it in a 'StringIO' object.\n",
      "  table_data = pd.read_html(str(table))[0]\n"
     ]
    },
    {
     "name": "stdout",
     "output_type": "stream",
     "text": [
      "Saving table 1 for 1990 to 1990_Player_Details_1.csv...\n",
      "Table 1 saved as 1990_Player_Details_1.csv\n",
      "\n",
      "Saving table 2 for 1990 to 1990_Player_Details_2.csv...\n",
      "Table 2 saved as 1990_Player_Details_2.csv\n",
      "\n"
     ]
    },
    {
     "name": "stderr",
     "output_type": "stream",
     "text": [
      "/var/folders/f6/ng6svcbs3x527pvn9dvrsjjr0000gn/T/ipykernel_39115/3731253816.py:29: FutureWarning: Passing literal html to 'read_html' is deprecated and will be removed in a future version. To read from a literal string, wrap it in a 'StringIO' object.\n",
      "  table_data = pd.read_html(str(table))[0]\n",
      "/var/folders/f6/ng6svcbs3x527pvn9dvrsjjr0000gn/T/ipykernel_39115/3731253816.py:29: FutureWarning: Passing literal html to 'read_html' is deprecated and will be removed in a future version. To read from a literal string, wrap it in a 'StringIO' object.\n",
      "  table_data = pd.read_html(str(table))[0]\n"
     ]
    },
    {
     "name": "stdout",
     "output_type": "stream",
     "text": [
      "Saving table 1 for 1991 to 1991_Player_Details_1.csv...\n",
      "Table 1 saved as 1991_Player_Details_1.csv\n",
      "\n",
      "Saving table 2 for 1991 to 1991_Player_Details_2.csv...\n",
      "Table 2 saved as 1991_Player_Details_2.csv\n",
      "\n"
     ]
    },
    {
     "name": "stderr",
     "output_type": "stream",
     "text": [
      "/var/folders/f6/ng6svcbs3x527pvn9dvrsjjr0000gn/T/ipykernel_39115/3731253816.py:29: FutureWarning: Passing literal html to 'read_html' is deprecated and will be removed in a future version. To read from a literal string, wrap it in a 'StringIO' object.\n",
      "  table_data = pd.read_html(str(table))[0]\n",
      "/var/folders/f6/ng6svcbs3x527pvn9dvrsjjr0000gn/T/ipykernel_39115/3731253816.py:29: FutureWarning: Passing literal html to 'read_html' is deprecated and will be removed in a future version. To read from a literal string, wrap it in a 'StringIO' object.\n",
      "  table_data = pd.read_html(str(table))[0]\n"
     ]
    },
    {
     "name": "stdout",
     "output_type": "stream",
     "text": [
      "Saving table 1 for 1992 to 1992_Player_Details_1.csv...\n",
      "Table 1 saved as 1992_Player_Details_1.csv\n",
      "\n",
      "Saving table 2 for 1992 to 1992_Player_Details_2.csv...\n",
      "Table 2 saved as 1992_Player_Details_2.csv\n",
      "\n"
     ]
    },
    {
     "name": "stderr",
     "output_type": "stream",
     "text": [
      "/var/folders/f6/ng6svcbs3x527pvn9dvrsjjr0000gn/T/ipykernel_39115/3731253816.py:29: FutureWarning: Passing literal html to 'read_html' is deprecated and will be removed in a future version. To read from a literal string, wrap it in a 'StringIO' object.\n",
      "  table_data = pd.read_html(str(table))[0]\n",
      "/var/folders/f6/ng6svcbs3x527pvn9dvrsjjr0000gn/T/ipykernel_39115/3731253816.py:29: FutureWarning: Passing literal html to 'read_html' is deprecated and will be removed in a future version. To read from a literal string, wrap it in a 'StringIO' object.\n",
      "  table_data = pd.read_html(str(table))[0]\n"
     ]
    },
    {
     "name": "stdout",
     "output_type": "stream",
     "text": [
      "Saving table 1 for 1993 to 1993_Player_Details_1.csv...\n",
      "Table 1 saved as 1993_Player_Details_1.csv\n",
      "\n",
      "Saving table 2 for 1993 to 1993_Player_Details_2.csv...\n",
      "Table 2 saved as 1993_Player_Details_2.csv\n",
      "\n"
     ]
    },
    {
     "name": "stderr",
     "output_type": "stream",
     "text": [
      "/var/folders/f6/ng6svcbs3x527pvn9dvrsjjr0000gn/T/ipykernel_39115/3731253816.py:29: FutureWarning: Passing literal html to 'read_html' is deprecated and will be removed in a future version. To read from a literal string, wrap it in a 'StringIO' object.\n",
      "  table_data = pd.read_html(str(table))[0]\n",
      "/var/folders/f6/ng6svcbs3x527pvn9dvrsjjr0000gn/T/ipykernel_39115/3731253816.py:29: FutureWarning: Passing literal html to 'read_html' is deprecated and will be removed in a future version. To read from a literal string, wrap it in a 'StringIO' object.\n",
      "  table_data = pd.read_html(str(table))[0]\n"
     ]
    },
    {
     "name": "stdout",
     "output_type": "stream",
     "text": [
      "Saving table 1 for 1994 to 1994_Player_Details_1.csv...\n",
      "Table 1 saved as 1994_Player_Details_1.csv\n",
      "\n",
      "Saving table 2 for 1994 to 1994_Player_Details_2.csv...\n",
      "Table 2 saved as 1994_Player_Details_2.csv\n",
      "\n"
     ]
    },
    {
     "name": "stderr",
     "output_type": "stream",
     "text": [
      "/var/folders/f6/ng6svcbs3x527pvn9dvrsjjr0000gn/T/ipykernel_39115/3731253816.py:29: FutureWarning: Passing literal html to 'read_html' is deprecated and will be removed in a future version. To read from a literal string, wrap it in a 'StringIO' object.\n",
      "  table_data = pd.read_html(str(table))[0]\n",
      "/var/folders/f6/ng6svcbs3x527pvn9dvrsjjr0000gn/T/ipykernel_39115/3731253816.py:29: FutureWarning: Passing literal html to 'read_html' is deprecated and will be removed in a future version. To read from a literal string, wrap it in a 'StringIO' object.\n",
      "  table_data = pd.read_html(str(table))[0]\n"
     ]
    },
    {
     "name": "stdout",
     "output_type": "stream",
     "text": [
      "Saving table 1 for 1995 to 1995_Player_Details_1.csv...\n",
      "Table 1 saved as 1995_Player_Details_1.csv\n",
      "\n",
      "Saving table 2 for 1995 to 1995_Player_Details_2.csv...\n",
      "Table 2 saved as 1995_Player_Details_2.csv\n",
      "\n"
     ]
    },
    {
     "name": "stderr",
     "output_type": "stream",
     "text": [
      "/var/folders/f6/ng6svcbs3x527pvn9dvrsjjr0000gn/T/ipykernel_39115/3731253816.py:29: FutureWarning: Passing literal html to 'read_html' is deprecated and will be removed in a future version. To read from a literal string, wrap it in a 'StringIO' object.\n",
      "  table_data = pd.read_html(str(table))[0]\n",
      "/var/folders/f6/ng6svcbs3x527pvn9dvrsjjr0000gn/T/ipykernel_39115/3731253816.py:29: FutureWarning: Passing literal html to 'read_html' is deprecated and will be removed in a future version. To read from a literal string, wrap it in a 'StringIO' object.\n",
      "  table_data = pd.read_html(str(table))[0]\n"
     ]
    },
    {
     "name": "stdout",
     "output_type": "stream",
     "text": [
      "Saving table 1 for 1996 to 1996_Player_Details_1.csv...\n",
      "Table 1 saved as 1996_Player_Details_1.csv\n",
      "\n",
      "Saving table 2 for 1996 to 1996_Player_Details_2.csv...\n",
      "Table 2 saved as 1996_Player_Details_2.csv\n",
      "\n"
     ]
    },
    {
     "name": "stderr",
     "output_type": "stream",
     "text": [
      "/var/folders/f6/ng6svcbs3x527pvn9dvrsjjr0000gn/T/ipykernel_39115/3731253816.py:29: FutureWarning: Passing literal html to 'read_html' is deprecated and will be removed in a future version. To read from a literal string, wrap it in a 'StringIO' object.\n",
      "  table_data = pd.read_html(str(table))[0]\n",
      "/var/folders/f6/ng6svcbs3x527pvn9dvrsjjr0000gn/T/ipykernel_39115/3731253816.py:29: FutureWarning: Passing literal html to 'read_html' is deprecated and will be removed in a future version. To read from a literal string, wrap it in a 'StringIO' object.\n",
      "  table_data = pd.read_html(str(table))[0]\n"
     ]
    },
    {
     "name": "stdout",
     "output_type": "stream",
     "text": [
      "Saving table 1 for 1997 to 1997_Player_Details_1.csv...\n",
      "Table 1 saved as 1997_Player_Details_1.csv\n",
      "\n",
      "Saving table 2 for 1997 to 1997_Player_Details_2.csv...\n",
      "Table 2 saved as 1997_Player_Details_2.csv\n",
      "\n"
     ]
    },
    {
     "name": "stderr",
     "output_type": "stream",
     "text": [
      "/var/folders/f6/ng6svcbs3x527pvn9dvrsjjr0000gn/T/ipykernel_39115/3731253816.py:29: FutureWarning: Passing literal html to 'read_html' is deprecated and will be removed in a future version. To read from a literal string, wrap it in a 'StringIO' object.\n",
      "  table_data = pd.read_html(str(table))[0]\n",
      "/var/folders/f6/ng6svcbs3x527pvn9dvrsjjr0000gn/T/ipykernel_39115/3731253816.py:29: FutureWarning: Passing literal html to 'read_html' is deprecated and will be removed in a future version. To read from a literal string, wrap it in a 'StringIO' object.\n",
      "  table_data = pd.read_html(str(table))[0]\n"
     ]
    },
    {
     "name": "stdout",
     "output_type": "stream",
     "text": [
      "Saving table 1 for 1998 to 1998_Player_Details_1.csv...\n",
      "Table 1 saved as 1998_Player_Details_1.csv\n",
      "\n",
      "Saving table 2 for 1998 to 1998_Player_Details_2.csv...\n",
      "Table 2 saved as 1998_Player_Details_2.csv\n",
      "\n"
     ]
    },
    {
     "name": "stderr",
     "output_type": "stream",
     "text": [
      "/var/folders/f6/ng6svcbs3x527pvn9dvrsjjr0000gn/T/ipykernel_39115/3731253816.py:29: FutureWarning: Passing literal html to 'read_html' is deprecated and will be removed in a future version. To read from a literal string, wrap it in a 'StringIO' object.\n",
      "  table_data = pd.read_html(str(table))[0]\n",
      "/var/folders/f6/ng6svcbs3x527pvn9dvrsjjr0000gn/T/ipykernel_39115/3731253816.py:29: FutureWarning: Passing literal html to 'read_html' is deprecated and will be removed in a future version. To read from a literal string, wrap it in a 'StringIO' object.\n",
      "  table_data = pd.read_html(str(table))[0]\n"
     ]
    },
    {
     "name": "stdout",
     "output_type": "stream",
     "text": [
      "Saving table 1 for 2000 to 2000_Player_Details_1.csv...\n",
      "Table 1 saved as 2000_Player_Details_1.csv\n",
      "\n",
      "Saving table 2 for 2000 to 2000_Player_Details_2.csv...\n",
      "Table 2 saved as 2000_Player_Details_2.csv\n",
      "\n"
     ]
    },
    {
     "name": "stderr",
     "output_type": "stream",
     "text": [
      "/var/folders/f6/ng6svcbs3x527pvn9dvrsjjr0000gn/T/ipykernel_39115/3731253816.py:29: FutureWarning: Passing literal html to 'read_html' is deprecated and will be removed in a future version. To read from a literal string, wrap it in a 'StringIO' object.\n",
      "  table_data = pd.read_html(str(table))[0]\n",
      "/var/folders/f6/ng6svcbs3x527pvn9dvrsjjr0000gn/T/ipykernel_39115/3731253816.py:29: FutureWarning: Passing literal html to 'read_html' is deprecated and will be removed in a future version. To read from a literal string, wrap it in a 'StringIO' object.\n",
      "  table_data = pd.read_html(str(table))[0]\n"
     ]
    },
    {
     "name": "stdout",
     "output_type": "stream",
     "text": [
      "Saving table 1 for 2001 to 2001_Player_Details_1.csv...\n",
      "Table 1 saved as 2001_Player_Details_1.csv\n",
      "\n",
      "Saving table 2 for 2001 to 2001_Player_Details_2.csv...\n",
      "Table 2 saved as 2001_Player_Details_2.csv\n",
      "\n"
     ]
    },
    {
     "name": "stderr",
     "output_type": "stream",
     "text": [
      "/var/folders/f6/ng6svcbs3x527pvn9dvrsjjr0000gn/T/ipykernel_39115/3731253816.py:29: FutureWarning: Passing literal html to 'read_html' is deprecated and will be removed in a future version. To read from a literal string, wrap it in a 'StringIO' object.\n",
      "  table_data = pd.read_html(str(table))[0]\n",
      "/var/folders/f6/ng6svcbs3x527pvn9dvrsjjr0000gn/T/ipykernel_39115/3731253816.py:29: FutureWarning: Passing literal html to 'read_html' is deprecated and will be removed in a future version. To read from a literal string, wrap it in a 'StringIO' object.\n",
      "  table_data = pd.read_html(str(table))[0]\n"
     ]
    },
    {
     "name": "stdout",
     "output_type": "stream",
     "text": [
      "Saving table 1 for 2002 to 2002_Player_Details_1.csv...\n",
      "Table 1 saved as 2002_Player_Details_1.csv\n",
      "\n",
      "Saving table 2 for 2002 to 2002_Player_Details_2.csv...\n",
      "Table 2 saved as 2002_Player_Details_2.csv\n",
      "\n"
     ]
    },
    {
     "name": "stderr",
     "output_type": "stream",
     "text": [
      "/var/folders/f6/ng6svcbs3x527pvn9dvrsjjr0000gn/T/ipykernel_39115/3731253816.py:29: FutureWarning: Passing literal html to 'read_html' is deprecated and will be removed in a future version. To read from a literal string, wrap it in a 'StringIO' object.\n",
      "  table_data = pd.read_html(str(table))[0]\n",
      "/var/folders/f6/ng6svcbs3x527pvn9dvrsjjr0000gn/T/ipykernel_39115/3731253816.py:29: FutureWarning: Passing literal html to 'read_html' is deprecated and will be removed in a future version. To read from a literal string, wrap it in a 'StringIO' object.\n",
      "  table_data = pd.read_html(str(table))[0]\n"
     ]
    },
    {
     "name": "stdout",
     "output_type": "stream",
     "text": [
      "Saving table 1 for 2003 to 2003_Player_Details_1.csv...\n",
      "Table 1 saved as 2003_Player_Details_1.csv\n",
      "\n",
      "Saving table 2 for 2003 to 2003_Player_Details_2.csv...\n",
      "Table 2 saved as 2003_Player_Details_2.csv\n",
      "\n"
     ]
    },
    {
     "name": "stderr",
     "output_type": "stream",
     "text": [
      "/var/folders/f6/ng6svcbs3x527pvn9dvrsjjr0000gn/T/ipykernel_39115/3731253816.py:29: FutureWarning: Passing literal html to 'read_html' is deprecated and will be removed in a future version. To read from a literal string, wrap it in a 'StringIO' object.\n",
      "  table_data = pd.read_html(str(table))[0]\n",
      "/var/folders/f6/ng6svcbs3x527pvn9dvrsjjr0000gn/T/ipykernel_39115/3731253816.py:29: FutureWarning: Passing literal html to 'read_html' is deprecated and will be removed in a future version. To read from a literal string, wrap it in a 'StringIO' object.\n",
      "  table_data = pd.read_html(str(table))[0]\n"
     ]
    },
    {
     "name": "stdout",
     "output_type": "stream",
     "text": [
      "Saving table 1 for 2004 to 2004_Player_Details_1.csv...\n",
      "Table 1 saved as 2004_Player_Details_1.csv\n",
      "\n",
      "Saving table 2 for 2004 to 2004_Player_Details_2.csv...\n",
      "Table 2 saved as 2004_Player_Details_2.csv\n",
      "\n"
     ]
    },
    {
     "name": "stderr",
     "output_type": "stream",
     "text": [
      "/var/folders/f6/ng6svcbs3x527pvn9dvrsjjr0000gn/T/ipykernel_39115/3731253816.py:29: FutureWarning: Passing literal html to 'read_html' is deprecated and will be removed in a future version. To read from a literal string, wrap it in a 'StringIO' object.\n",
      "  table_data = pd.read_html(str(table))[0]\n",
      "/var/folders/f6/ng6svcbs3x527pvn9dvrsjjr0000gn/T/ipykernel_39115/3731253816.py:29: FutureWarning: Passing literal html to 'read_html' is deprecated and will be removed in a future version. To read from a literal string, wrap it in a 'StringIO' object.\n",
      "  table_data = pd.read_html(str(table))[0]\n"
     ]
    },
    {
     "name": "stdout",
     "output_type": "stream",
     "text": [
      "Saving table 1 for 2005 to 2005_Player_Details_1.csv...\n",
      "Table 1 saved as 2005_Player_Details_1.csv\n",
      "\n",
      "Saving table 2 for 2005 to 2005_Player_Details_2.csv...\n",
      "Table 2 saved as 2005_Player_Details_2.csv\n",
      "\n"
     ]
    },
    {
     "name": "stderr",
     "output_type": "stream",
     "text": [
      "/var/folders/f6/ng6svcbs3x527pvn9dvrsjjr0000gn/T/ipykernel_39115/3731253816.py:29: FutureWarning: Passing literal html to 'read_html' is deprecated and will be removed in a future version. To read from a literal string, wrap it in a 'StringIO' object.\n",
      "  table_data = pd.read_html(str(table))[0]\n",
      "/var/folders/f6/ng6svcbs3x527pvn9dvrsjjr0000gn/T/ipykernel_39115/3731253816.py:29: FutureWarning: Passing literal html to 'read_html' is deprecated and will be removed in a future version. To read from a literal string, wrap it in a 'StringIO' object.\n",
      "  table_data = pd.read_html(str(table))[0]\n"
     ]
    },
    {
     "name": "stdout",
     "output_type": "stream",
     "text": [
      "Saving table 1 for 2006 to 2006_Player_Details_1.csv...\n",
      "Table 1 saved as 2006_Player_Details_1.csv\n",
      "\n",
      "Saving table 2 for 2006 to 2006_Player_Details_2.csv...\n",
      "Table 2 saved as 2006_Player_Details_2.csv\n",
      "\n"
     ]
    },
    {
     "name": "stderr",
     "output_type": "stream",
     "text": [
      "/var/folders/f6/ng6svcbs3x527pvn9dvrsjjr0000gn/T/ipykernel_39115/3731253816.py:29: FutureWarning: Passing literal html to 'read_html' is deprecated and will be removed in a future version. To read from a literal string, wrap it in a 'StringIO' object.\n",
      "  table_data = pd.read_html(str(table))[0]\n",
      "/var/folders/f6/ng6svcbs3x527pvn9dvrsjjr0000gn/T/ipykernel_39115/3731253816.py:29: FutureWarning: Passing literal html to 'read_html' is deprecated and will be removed in a future version. To read from a literal string, wrap it in a 'StringIO' object.\n",
      "  table_data = pd.read_html(str(table))[0]\n"
     ]
    },
    {
     "name": "stdout",
     "output_type": "stream",
     "text": [
      "Saving table 1 for 2007 to 2007_Player_Details_1.csv...\n",
      "Table 1 saved as 2007_Player_Details_1.csv\n",
      "\n",
      "Saving table 2 for 2007 to 2007_Player_Details_2.csv...\n",
      "Table 2 saved as 2007_Player_Details_2.csv\n",
      "\n"
     ]
    },
    {
     "name": "stderr",
     "output_type": "stream",
     "text": [
      "/var/folders/f6/ng6svcbs3x527pvn9dvrsjjr0000gn/T/ipykernel_39115/3731253816.py:29: FutureWarning: Passing literal html to 'read_html' is deprecated and will be removed in a future version. To read from a literal string, wrap it in a 'StringIO' object.\n",
      "  table_data = pd.read_html(str(table))[0]\n",
      "/var/folders/f6/ng6svcbs3x527pvn9dvrsjjr0000gn/T/ipykernel_39115/3731253816.py:29: FutureWarning: Passing literal html to 'read_html' is deprecated and will be removed in a future version. To read from a literal string, wrap it in a 'StringIO' object.\n",
      "  table_data = pd.read_html(str(table))[0]\n"
     ]
    },
    {
     "name": "stdout",
     "output_type": "stream",
     "text": [
      "Saving table 1 for 2008 to 2008_Player_Details_1.csv...\n",
      "Table 1 saved as 2008_Player_Details_1.csv\n",
      "\n",
      "Saving table 2 for 2008 to 2008_Player_Details_2.csv...\n",
      "Table 2 saved as 2008_Player_Details_2.csv\n",
      "\n"
     ]
    },
    {
     "name": "stderr",
     "output_type": "stream",
     "text": [
      "/var/folders/f6/ng6svcbs3x527pvn9dvrsjjr0000gn/T/ipykernel_39115/3731253816.py:29: FutureWarning: Passing literal html to 'read_html' is deprecated and will be removed in a future version. To read from a literal string, wrap it in a 'StringIO' object.\n",
      "  table_data = pd.read_html(str(table))[0]\n",
      "/var/folders/f6/ng6svcbs3x527pvn9dvrsjjr0000gn/T/ipykernel_39115/3731253816.py:29: FutureWarning: Passing literal html to 'read_html' is deprecated and will be removed in a future version. To read from a literal string, wrap it in a 'StringIO' object.\n",
      "  table_data = pd.read_html(str(table))[0]\n"
     ]
    },
    {
     "name": "stdout",
     "output_type": "stream",
     "text": [
      "Saving table 1 for 2009 to 2009_Player_Details_1.csv...\n",
      "Table 1 saved as 2009_Player_Details_1.csv\n",
      "\n",
      "Saving table 2 for 2009 to 2009_Player_Details_2.csv...\n",
      "Table 2 saved as 2009_Player_Details_2.csv\n",
      "\n"
     ]
    },
    {
     "name": "stderr",
     "output_type": "stream",
     "text": [
      "/var/folders/f6/ng6svcbs3x527pvn9dvrsjjr0000gn/T/ipykernel_39115/3731253816.py:29: FutureWarning: Passing literal html to 'read_html' is deprecated and will be removed in a future version. To read from a literal string, wrap it in a 'StringIO' object.\n",
      "  table_data = pd.read_html(str(table))[0]\n",
      "/var/folders/f6/ng6svcbs3x527pvn9dvrsjjr0000gn/T/ipykernel_39115/3731253816.py:29: FutureWarning: Passing literal html to 'read_html' is deprecated and will be removed in a future version. To read from a literal string, wrap it in a 'StringIO' object.\n",
      "  table_data = pd.read_html(str(table))[0]\n"
     ]
    },
    {
     "name": "stdout",
     "output_type": "stream",
     "text": [
      "Saving table 1 for 2010 to 2010_Player_Details_1.csv...\n",
      "Table 1 saved as 2010_Player_Details_1.csv\n",
      "\n",
      "Saving table 2 for 2010 to 2010_Player_Details_2.csv...\n",
      "Table 2 saved as 2010_Player_Details_2.csv\n",
      "\n"
     ]
    },
    {
     "name": "stderr",
     "output_type": "stream",
     "text": [
      "/var/folders/f6/ng6svcbs3x527pvn9dvrsjjr0000gn/T/ipykernel_39115/3731253816.py:29: FutureWarning: Passing literal html to 'read_html' is deprecated and will be removed in a future version. To read from a literal string, wrap it in a 'StringIO' object.\n",
      "  table_data = pd.read_html(str(table))[0]\n",
      "/var/folders/f6/ng6svcbs3x527pvn9dvrsjjr0000gn/T/ipykernel_39115/3731253816.py:29: FutureWarning: Passing literal html to 'read_html' is deprecated and will be removed in a future version. To read from a literal string, wrap it in a 'StringIO' object.\n",
      "  table_data = pd.read_html(str(table))[0]\n"
     ]
    }
   ],
   "source": [
    "# Loop through the years\n",
    "for year in years:\n",
    "    # Construct the full URL for the current year\n",
    "    url = f\"{base_url}{year}.html\"\n",
    "    \n",
    "    # Send a GET request to the URL\n",
    "    response = requests.get(url)\n",
    "    \n",
    "    # Parse HTML content\n",
    "    soup = BeautifulSoup(response.content, \"html.parser\")\n",
    "    \n",
    "    # Extract all table elements from the webpage\n",
    "    tables = soup.find_all(\"table\")\n",
    "    \n",
    "    # Loop through the tables\n",
    "    for i, table in enumerate(tables, start=1):\n",
    "        # Define the file name\n",
    "        if i == 1:\n",
    "            file_name = f\"{year}_Player_Details_1.csv\"\n",
    "        elif i == 2:\n",
    "            file_name = f\"{year}_Player_Details_2.csv\"\n",
    "        else:\n",
    "            # Default naming for tables beyond the second table\n",
    "            file_name = f\"{year}_Table_{i}.csv\"\n",
    "        \n",
    "        print(f\"Saving table {i} for {year} to {file_name}...\")\n",
    "        \n",
    "        # Extract table data and convert to DataFrame\n",
    "        table_data = pd.read_html(str(table))[0]\n",
    "        \n",
    "        # Save the table as a CSV file\n",
    "        table_data.to_csv(file_name, index=False)\n",
    "        \n",
    "        print(f\"Table {i} saved as {file_name}\\n\")\n"
   ]
  }
 ],
 "metadata": {
  "kernelspec": {
   "display_name": "base",
   "language": "python",
   "name": "python3"
  },
  "language_info": {
   "codemirror_mode": {
    "name": "ipython",
    "version": 3
   },
   "file_extension": ".py",
   "mimetype": "text/x-python",
   "name": "python",
   "nbconvert_exporter": "python",
   "pygments_lexer": "ipython3",
   "version": "3.10.13"
  },
  "orig_nbformat": 4
 },
 "nbformat": 4,
 "nbformat_minor": 2
}
